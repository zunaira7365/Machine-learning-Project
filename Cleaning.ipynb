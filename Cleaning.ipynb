{
 "cells": [
  {
   "cell_type": "markdown",
   "id": "925565cb",
   "metadata": {
    "id": "925565cb"
   },
   "source": [
    "# Importing Libraries and loading Datasets"
   ]
  },
  {
   "cell_type": "code",
   "execution_count": 1,
   "id": "7ddb3026",
   "metadata": {
    "executionInfo": {
     "elapsed": 6,
     "status": "ok",
     "timestamp": 1752160450403,
     "user": {
      "displayName": "zunaira pervaiz",
      "userId": "04677811989927082343"
     },
     "user_tz": -120
    },
    "id": "7ddb3026"
   },
   "outputs": [],
   "source": [
    "import pandas as pd\n",
    "import numpy as np\n",
    "from geopy.distance import geodesic\n",
    "from datetime import datetime\n",
    "from collections import Counter\n",
    "import ast\n",
    "import os\n",
    "import requests\n",
    "from PIL import Image\n",
    "from io import BytesIO\n",
    "from tqdm import tqdm\n",
    "import torch\n",
    "import torchvision.transforms as transforms\n",
    "from torchvision.models import resnet50\n",
    "from tensorflow.keras.applications.resnet50 import ResNet50, preprocess_input\n",
    "from tensorflow.keras.preprocessing import image\n",
    "from tensorflow.keras.models import Model"
   ]
  },
  {
   "cell_type": "markdown",
   "id": "ed81e7a0",
   "metadata": {
    "id": "ed81e7a0"
   },
   "source": [
    "### Loadind and inspecting each data set\n",
    "#### A. listings.csv"
   ]
  },
  {
   "cell_type": "code",
   "execution_count": 3,
   "id": "dc220e94",
   "metadata": {
    "colab": {
     "base_uri": "https://localhost:8080/"
    },
    "executionInfo": {
     "elapsed": 2203,
     "status": "ok",
     "timestamp": 1752160455459,
     "user": {
      "displayName": "zunaira pervaiz",
      "userId": "04677811989927082343"
     },
     "user_tz": -120
    },
    "id": "dc220e94",
    "outputId": "aa6f743f-7ff4-4deb-80bf-c17e52e783d4"
   },
   "outputs": [
    {
     "name": "stdout",
     "output_type": "stream",
     "text": [
      "(13945, 79)\n",
      "      id                                           name    neighbourhood  \\\n",
      "0   3176                Fabulous Flat in great Location  Berlin, Germany   \n",
      "1   9991            Geourgeous flat - outstanding views  Berlin, Germany   \n",
      "2  14325            Studio Apartment in Prenzlauer Berg              NaN   \n",
      "3  16644             In the Heart of Berlin - Kreuzberg  Berlin, Germany   \n",
      "4  17904  Beautiful Kreuzberg studio - 3 months minimum  Berlin, Germany   \n",
      "\n",
      "         room_type    price  latitude  longitude  \n",
      "0  Entire home/apt  $105.00  52.53471   13.41810  \n",
      "1  Entire home/apt  $135.00  52.53269   13.41805  \n",
      "2  Entire home/apt   $75.00  52.54813   13.40366  \n",
      "3  Entire home/apt   $77.00  52.50312   13.43508  \n",
      "4  Entire home/apt   $40.00  52.49419   13.42166  \n"
     ]
    }
   ],
   "source": [
    "# Load listings\n",
    "listings = pd.read_csv('listings.csv')\n",
    "\n",
    "# Clean and convert the 'price' column to float'\n",
    "#listings['price'] = (listings['price'].str.replace(r'[\\$,]', '', regex=True).astype(float))\n",
    "print(listings.shape)\n",
    "print(listings[['id', 'name', 'neighbourhood', 'room_type', 'price', 'latitude', 'longitude']].head(5))"
   ]
  },
  {
   "cell_type": "code",
   "execution_count": 4,
   "id": "FGYi2IdBuk9X",
   "metadata": {
    "executionInfo": {
     "elapsed": 5,
     "status": "ok",
     "timestamp": 1752160472814,
     "user": {
      "displayName": "zunaira pervaiz",
      "userId": "04677811989927082343"
     },
     "user_tz": -120
    },
    "id": "FGYi2IdBuk9X"
   },
   "outputs": [],
   "source": [
    "# Clean and convert the 'price' column to float\n",
    "listings['price'] = (\n",
    "    listings['price']\n",
    "    .astype(str)  # convert to string first\n",
    "    .str.replace(r'[\\$,]', '', regex=True)  # remove $ and ,\n",
    "    .astype(float)  # convert to float\n",
    ")\n"
   ]
  },
  {
   "cell_type": "markdown",
   "id": "1757fa73",
   "metadata": {
    "id": "1757fa73"
   },
   "source": [
    "#### B. calendar.csv\n",
    "#### Filter only available dates and convert price to numeric"
   ]
  },
  {
   "cell_type": "code",
   "execution_count": 6,
   "id": "KiEMn0pww7Q8",
   "metadata": {
    "colab": {
     "base_uri": "https://localhost:8080/"
    },
    "executionInfo": {
     "elapsed": 12833,
     "status": "ok",
     "timestamp": 1752160488403,
     "user": {
      "displayName": "zunaira pervaiz",
      "userId": "04677811989927082343"
     },
     "user_tz": -120
    },
    "id": "KiEMn0pww7Q8",
    "outputId": "ad9d6652-27ee-476e-c76f-3b13258cd494"
   },
   "outputs": [
    {
     "name": "stdout",
     "output_type": "stream",
     "text": [
      "listing_id\n",
      "3176     105.0\n",
      "9991     180.0\n",
      "14325     75.0\n",
      "16644     90.0\n",
      "17904     25.0\n",
      "Name: price, dtype: float64\n"
     ]
    }
   ],
   "source": [
    "calendar = pd.read_csv('calendar.csv')\n",
    "calendar['date'] = pd.to_datetime(calendar['date'])\n",
    "# calendar = calendar[calendar['available'] == 't'].copy()\n",
    "calendar['price'] = (\n",
    "    calendar['price'].str.replace(r'[\\$,]', '', regex=True).astype(float)\n",
    ")\n",
    "print(calendar.groupby('listing_id')['price'].mean().head())"
   ]
  },
  {
   "cell_type": "code",
   "execution_count": 8,
   "id": "82ed8f4d",
   "metadata": {
    "colab": {
     "base_uri": "https://localhost:8080/"
    },
    "executionInfo": {
     "elapsed": 14,
     "status": "ok",
     "timestamp": 1752160497728,
     "user": {
      "displayName": "zunaira pervaiz",
      "userId": "04677811989927082343"
     },
     "user_tz": -120
    },
    "id": "82ed8f4d",
    "outputId": "4154960d-9b17-47f9-c598-f54394bd1f5e"
   },
   "outputs": [
    {
     "data": {
      "text/plain": [
       "(5103124, 7)"
      ]
     },
     "execution_count": 8,
     "metadata": {},
     "output_type": "execute_result"
    }
   ],
   "source": [
    "calendar.shape"
   ]
  },
  {
   "cell_type": "markdown",
   "id": "7f5d0c5e",
   "metadata": {
    "id": "7f5d0c5e"
   },
   "source": [
    "#### Create Base Dataset\n",
    "#### Let’s merge the datasets into one base DataFrame, using id from listings and listing_id from calendar."
   ]
  },
  {
   "cell_type": "code",
   "execution_count": 10,
   "id": "883ceedc",
   "metadata": {
    "colab": {
     "base_uri": "https://localhost:8080/"
    },
    "executionInfo": {
     "elapsed": 134,
     "status": "ok",
     "timestamp": 1752160501295,
     "user": {
      "displayName": "zunaira pervaiz",
      "userId": "04677811989927082343"
     },
     "user_tz": -120
    },
    "id": "883ceedc",
    "outputId": "b0a5b6a5-f691-42eb-e005-910d2be24031"
   },
   "outputs": [
    {
     "name": "stdout",
     "output_type": "stream",
     "text": [
      "      id        room_type    neighbourhood  average_price  price\n",
      "0   3176  Entire home/apt  Berlin, Germany          105.0  105.0\n",
      "1   9991  Entire home/apt  Berlin, Germany          180.0  135.0\n",
      "2  14325  Entire home/apt              NaN           75.0   75.0\n",
      "3  16644  Entire home/apt  Berlin, Germany           90.0   77.0\n",
      "4  17904  Entire home/apt  Berlin, Germany           25.0   40.0\n"
     ]
    }
   ],
   "source": [
    "# Compute mean price per listing\n",
    "price_df = calendar.groupby('listing_id')['price'].mean().reset_index()\n",
    "price_df.columns = ['id', 'average_price']\n",
    "\n",
    "# Merge with listings\n",
    "base_df = pd.merge(listings, price_df, on='id', how='inner')\n",
    "print(base_df[['id', 'room_type', 'neighbourhood', 'average_price','price']].head())\n",
    "\n"
   ]
  },
  {
   "cell_type": "code",
   "execution_count": 11,
   "id": "2ASEE2HX4I5Y",
   "metadata": {
    "colab": {
     "base_uri": "https://localhost:8080/",
     "height": 585
    },
    "executionInfo": {
     "elapsed": 23,
     "status": "ok",
     "timestamp": 1752160505905,
     "user": {
      "displayName": "zunaira pervaiz",
      "userId": "04677811989927082343"
     },
     "user_tz": -120
    },
    "id": "2ASEE2HX4I5Y",
    "outputId": "c268a5ce-fefc-4f21-efd7-5597e9916c03"
   },
   "outputs": [
    {
     "data": {
      "text/html": [
       "<div>\n",
       "<style scoped>\n",
       "    .dataframe tbody tr th:only-of-type {\n",
       "        vertical-align: middle;\n",
       "    }\n",
       "\n",
       "    .dataframe tbody tr th {\n",
       "        vertical-align: top;\n",
       "    }\n",
       "\n",
       "    .dataframe thead th {\n",
       "        text-align: right;\n",
       "    }\n",
       "</style>\n",
       "<table border=\"1\" class=\"dataframe\">\n",
       "  <thead>\n",
       "    <tr style=\"text-align: right;\">\n",
       "      <th></th>\n",
       "      <th>id</th>\n",
       "      <th>listing_url</th>\n",
       "      <th>scrape_id</th>\n",
       "      <th>last_scraped</th>\n",
       "      <th>source</th>\n",
       "      <th>name</th>\n",
       "      <th>description</th>\n",
       "      <th>neighborhood_overview</th>\n",
       "      <th>picture_url</th>\n",
       "      <th>host_id</th>\n",
       "      <th>...</th>\n",
       "      <th>review_scores_location</th>\n",
       "      <th>review_scores_value</th>\n",
       "      <th>license</th>\n",
       "      <th>instant_bookable</th>\n",
       "      <th>calculated_host_listings_count</th>\n",
       "      <th>calculated_host_listings_count_entire_homes</th>\n",
       "      <th>calculated_host_listings_count_private_rooms</th>\n",
       "      <th>calculated_host_listings_count_shared_rooms</th>\n",
       "      <th>reviews_per_month</th>\n",
       "      <th>average_price</th>\n",
       "    </tr>\n",
       "  </thead>\n",
       "  <tbody>\n",
       "    <tr>\n",
       "      <th>0</th>\n",
       "      <td>3176</td>\n",
       "      <td>https://www.airbnb.com/rooms/3176</td>\n",
       "      <td>20250315152850</td>\n",
       "      <td>2025-03-16</td>\n",
       "      <td>city scrape</td>\n",
       "      <td>Fabulous Flat in great Location</td>\n",
       "      <td>This beautiful first floor apartment  is situa...</td>\n",
       "      <td>The neighbourhood is famous for its variety of...</td>\n",
       "      <td>https://a0.muscache.com/pictures/airflow/Hosti...</td>\n",
       "      <td>3718</td>\n",
       "      <td>...</td>\n",
       "      <td>4.92</td>\n",
       "      <td>4.61</td>\n",
       "      <td>First name and Last name: Nicolas Krotz &lt;br/&gt; ...</td>\n",
       "      <td>f</td>\n",
       "      <td>1</td>\n",
       "      <td>1</td>\n",
       "      <td>0</td>\n",
       "      <td>0</td>\n",
       "      <td>0.78</td>\n",
       "      <td>105.0</td>\n",
       "    </tr>\n",
       "    <tr>\n",
       "      <th>1</th>\n",
       "      <td>9991</td>\n",
       "      <td>https://www.airbnb.com/rooms/9991</td>\n",
       "      <td>20250315152850</td>\n",
       "      <td>2025-03-16</td>\n",
       "      <td>city scrape</td>\n",
       "      <td>Geourgeous flat - outstanding views</td>\n",
       "      <td>4 bedroom with very large windows and outstand...</td>\n",
       "      <td>Prenzlauer Berg is an amazing neighbourhood wh...</td>\n",
       "      <td>https://a0.muscache.com/pictures/42799131/59c8...</td>\n",
       "      <td>33852</td>\n",
       "      <td>...</td>\n",
       "      <td>4.86</td>\n",
       "      <td>4.86</td>\n",
       "      <td>03/Z/RA/003410-18</td>\n",
       "      <td>f</td>\n",
       "      <td>1</td>\n",
       "      <td>1</td>\n",
       "      <td>0</td>\n",
       "      <td>0</td>\n",
       "      <td>0.06</td>\n",
       "      <td>180.0</td>\n",
       "    </tr>\n",
       "    <tr>\n",
       "      <th>2</th>\n",
       "      <td>14325</td>\n",
       "      <td>https://www.airbnb.com/rooms/14325</td>\n",
       "      <td>20250315152850</td>\n",
       "      <td>2025-03-16</td>\n",
       "      <td>city scrape</td>\n",
       "      <td>Studio Apartment in Prenzlauer Berg</td>\n",
       "      <td>The apartment is located on the upper second f...</td>\n",
       "      <td>NaN</td>\n",
       "      <td>https://a0.muscache.com/pictures/508703/24988a...</td>\n",
       "      <td>55531</td>\n",
       "      <td>...</td>\n",
       "      <td>4.60</td>\n",
       "      <td>4.45</td>\n",
       "      <td>NaN</td>\n",
       "      <td>f</td>\n",
       "      <td>4</td>\n",
       "      <td>4</td>\n",
       "      <td>0</td>\n",
       "      <td>0</td>\n",
       "      <td>0.15</td>\n",
       "      <td>75.0</td>\n",
       "    </tr>\n",
       "    <tr>\n",
       "      <th>3</th>\n",
       "      <td>16644</td>\n",
       "      <td>https://www.airbnb.com/rooms/16644</td>\n",
       "      <td>20250315152850</td>\n",
       "      <td>2025-03-16</td>\n",
       "      <td>city scrape</td>\n",
       "      <td>In the Heart of Berlin - Kreuzberg</td>\n",
       "      <td>Light and sunny 2-Room-turn of the century-fla...</td>\n",
       "      <td>Our Part of Kreuzberg is just the best. Good v...</td>\n",
       "      <td>https://a0.muscache.com/pictures/73759174/e2ef...</td>\n",
       "      <td>64696</td>\n",
       "      <td>...</td>\n",
       "      <td>4.67</td>\n",
       "      <td>4.71</td>\n",
       "      <td>NaN</td>\n",
       "      <td>f</td>\n",
       "      <td>2</td>\n",
       "      <td>2</td>\n",
       "      <td>0</td>\n",
       "      <td>0</td>\n",
       "      <td>0.27</td>\n",
       "      <td>90.0</td>\n",
       "    </tr>\n",
       "    <tr>\n",
       "      <th>4</th>\n",
       "      <td>17904</td>\n",
       "      <td>https://www.airbnb.com/rooms/17904</td>\n",
       "      <td>20250315152850</td>\n",
       "      <td>2025-03-16</td>\n",
       "      <td>city scrape</td>\n",
       "      <td>Beautiful Kreuzberg studio - 3 months minimum</td>\n",
       "      <td>- apt is available starting September 1, 2024&lt;...</td>\n",
       "      <td>The apartment is located in Kreuzberg, which i...</td>\n",
       "      <td>https://a0.muscache.com/pictures/d9a6f8be-54b9...</td>\n",
       "      <td>68997</td>\n",
       "      <td>...</td>\n",
       "      <td>4.87</td>\n",
       "      <td>4.65</td>\n",
       "      <td>NaN</td>\n",
       "      <td>f</td>\n",
       "      <td>1</td>\n",
       "      <td>1</td>\n",
       "      <td>0</td>\n",
       "      <td>0</td>\n",
       "      <td>1.63</td>\n",
       "      <td>25.0</td>\n",
       "    </tr>\n",
       "  </tbody>\n",
       "</table>\n",
       "<p>5 rows × 80 columns</p>\n",
       "</div>"
      ],
      "text/plain": [
       "      id                         listing_url       scrape_id last_scraped  \\\n",
       "0   3176   https://www.airbnb.com/rooms/3176  20250315152850   2025-03-16   \n",
       "1   9991   https://www.airbnb.com/rooms/9991  20250315152850   2025-03-16   \n",
       "2  14325  https://www.airbnb.com/rooms/14325  20250315152850   2025-03-16   \n",
       "3  16644  https://www.airbnb.com/rooms/16644  20250315152850   2025-03-16   \n",
       "4  17904  https://www.airbnb.com/rooms/17904  20250315152850   2025-03-16   \n",
       "\n",
       "        source                                           name  \\\n",
       "0  city scrape                Fabulous Flat in great Location   \n",
       "1  city scrape            Geourgeous flat - outstanding views   \n",
       "2  city scrape            Studio Apartment in Prenzlauer Berg   \n",
       "3  city scrape             In the Heart of Berlin - Kreuzberg   \n",
       "4  city scrape  Beautiful Kreuzberg studio - 3 months minimum   \n",
       "\n",
       "                                         description  \\\n",
       "0  This beautiful first floor apartment  is situa...   \n",
       "1  4 bedroom with very large windows and outstand...   \n",
       "2  The apartment is located on the upper second f...   \n",
       "3  Light and sunny 2-Room-turn of the century-fla...   \n",
       "4  - apt is available starting September 1, 2024<...   \n",
       "\n",
       "                               neighborhood_overview  \\\n",
       "0  The neighbourhood is famous for its variety of...   \n",
       "1  Prenzlauer Berg is an amazing neighbourhood wh...   \n",
       "2                                                NaN   \n",
       "3  Our Part of Kreuzberg is just the best. Good v...   \n",
       "4  The apartment is located in Kreuzberg, which i...   \n",
       "\n",
       "                                         picture_url  host_id  ...  \\\n",
       "0  https://a0.muscache.com/pictures/airflow/Hosti...     3718  ...   \n",
       "1  https://a0.muscache.com/pictures/42799131/59c8...    33852  ...   \n",
       "2  https://a0.muscache.com/pictures/508703/24988a...    55531  ...   \n",
       "3  https://a0.muscache.com/pictures/73759174/e2ef...    64696  ...   \n",
       "4  https://a0.muscache.com/pictures/d9a6f8be-54b9...    68997  ...   \n",
       "\n",
       "  review_scores_location review_scores_value  \\\n",
       "0                   4.92                4.61   \n",
       "1                   4.86                4.86   \n",
       "2                   4.60                4.45   \n",
       "3                   4.67                4.71   \n",
       "4                   4.87                4.65   \n",
       "\n",
       "                                             license instant_bookable  \\\n",
       "0  First name and Last name: Nicolas Krotz <br/> ...                f   \n",
       "1                                  03/Z/RA/003410-18                f   \n",
       "2                                                NaN                f   \n",
       "3                                                NaN                f   \n",
       "4                                                NaN                f   \n",
       "\n",
       "  calculated_host_listings_count calculated_host_listings_count_entire_homes  \\\n",
       "0                              1                                           1   \n",
       "1                              1                                           1   \n",
       "2                              4                                           4   \n",
       "3                              2                                           2   \n",
       "4                              1                                           1   \n",
       "\n",
       "  calculated_host_listings_count_private_rooms  \\\n",
       "0                                            0   \n",
       "1                                            0   \n",
       "2                                            0   \n",
       "3                                            0   \n",
       "4                                            0   \n",
       "\n",
       "  calculated_host_listings_count_shared_rooms reviews_per_month average_price  \n",
       "0                                           0              0.78         105.0  \n",
       "1                                           0              0.06         180.0  \n",
       "2                                           0              0.15          75.0  \n",
       "3                                           0              0.27          90.0  \n",
       "4                                           0              1.63          25.0  \n",
       "\n",
       "[5 rows x 80 columns]"
      ]
     },
     "execution_count": 11,
     "metadata": {},
     "output_type": "execute_result"
    }
   ],
   "source": [
    "base_df.head()"
   ]
  },
  {
   "cell_type": "code",
   "execution_count": 13,
   "id": "uN3dKsei3P0L",
   "metadata": {
    "colab": {
     "base_uri": "https://localhost:8080/"
    },
    "executionInfo": {
     "elapsed": 13,
     "status": "ok",
     "timestamp": 1752160509862,
     "user": {
      "displayName": "zunaira pervaiz",
      "userId": "04677811989927082343"
     },
     "user_tz": -120
    },
    "id": "uN3dKsei3P0L",
    "outputId": "165db3c6-6b3d-4eb7-aa26-c9484900e6ac"
   },
   "outputs": [
    {
     "data": {
      "text/plain": [
       "(12912, 80)"
      ]
     },
     "execution_count": 13,
     "metadata": {},
     "output_type": "execute_result"
    }
   ],
   "source": [
    "base_df.shape"
   ]
  },
  {
   "cell_type": "code",
   "execution_count": null,
   "id": "3cdfc961",
   "metadata": {},
   "outputs": [],
   "source": [
    "# List of top amenities\n",
    "# These amenities are commonly found in Airbnb listings and are often considered desirable by guests.\n",
    "# They can be used to filter or analyze listings based on guest preferences.\n",
    "top_amenities_list = [\n",
    "    \"Kitchen\", \"Wifi\", \"Hair dryer\",\"Smoke alarm\", \"Hot water\", \"Cooking basics\", \"Refrigerator\", \"Iron\",\n",
    "    \"Bed linens\", \"Washer\", \"Dishes and silverware\", \"Dedicated workspace\",\n",
    "    \"Heating\", \"Hot water kettle\", \"Dishwasher\", \"TV\", \"Oven\"\n",
    "]\n"
   ]
  },
  {
   "cell_type": "code",
   "execution_count": 16,
   "id": "a394af29",
   "metadata": {},
   "outputs": [],
   "source": [
    "# Function to extract amenities from a string\n",
    "# This function takes a string representation of amenities (e.g., from a DataFrame column)\n",
    "# and returns a list of amenities, stripping any extra characters like quotes or whitespace.\n",
    "# It handles NaN values by returning an empty list.\n",
    "def extract_amenities(amenities_str):\n",
    "    if pd.isna(amenities_str):\n",
    "        return []\n",
    "    amenities_str = amenities_str.strip('{}')\n",
    "    amenities = [a.strip().strip('\"').strip(\"'\") for a in amenities_str.split(',')]\n",
    "    return amenities"
   ]
  },
  {
   "cell_type": "code",
   "execution_count": 17,
   "id": "5a86b9a3",
   "metadata": {},
   "outputs": [],
   "source": [
    "# Create binary columns for each top amenity\n",
    "# This will create a new column for each amenity in the top_amenities_list,\n",
    "# indicating whether that amenity is present (1) or not (0) in each listing.\n",
    "for amenity in top_amenities_list:\n",
    "    col_name = f'amenity_{amenity.replace(\" \", \"_\").lower()}'\n",
    "    base_df[col_name] = base_df['amenities'].apply(\n",
    "        lambda x: int(amenity in extract_amenities(x))\n",
    "    )\n"
   ]
  },
  {
   "cell_type": "code",
   "execution_count": 18,
   "id": "5db641c8",
   "metadata": {
    "executionInfo": {
     "elapsed": 6,
     "status": "ok",
     "timestamp": 1752160513957,
     "user": {
      "displayName": "zunaira pervaiz",
      "userId": "04677811989927082343"
     },
     "user_tz": -120
    },
    "id": "5db641c8"
   },
   "outputs": [],
   "source": [
    "keep_columns = [\n",
    "    'id', 'price', 'accommodates',\n",
    "    'bedrooms', 'bathrooms', 'number_of_reviews',\n",
    "    'review_scores_rating', 'availability_365', 'minimum_nights',\n",
    "    'host_is_superhost', 'instant_bookable',\n",
    "    'latitude', 'longitude', 'picture_url',\n",
    "    \n",
    "    # Amenity binary features\n",
    "    'amenity_kitchen', 'amenity_wifi',\n",
    "    'amenity_hair_dryer', 'amenity_smoke_alarm', 'amenity_hot_water',\n",
    "    'amenity_cooking_basics', 'amenity_refrigerator', 'amenity_iron',\n",
    "    'amenity_bed_linens', 'amenity_washer', 'amenity_dishes_and_silverware',\n",
    "    'amenity_dedicated_workspace', 'amenity_heating','amenity_hot_water_kettle', \n",
    "    'amenity_dishwasher', 'amenity_tv', 'amenity_oven',\n",
    "]\n",
    "\n",
    "base_df = base_df[keep_columns]\n"
   ]
  },
  {
   "cell_type": "code",
   "execution_count": 19,
   "id": "18Q4qKhD2SCu",
   "metadata": {
    "colab": {
     "base_uri": "https://localhost:8080/"
    },
    "executionInfo": {
     "elapsed": 40,
     "status": "ok",
     "timestamp": 1752160519892,
     "user": {
      "displayName": "zunaira pervaiz",
      "userId": "04677811989927082343"
     },
     "user_tz": -120
    },
    "id": "18Q4qKhD2SCu",
    "outputId": "b217b4f9-d8e8-44e6-e093-e668c3c5aa7e"
   },
   "outputs": [
    {
     "data": {
      "text/plain": [
       "Index(['id', 'price', 'accommodates', 'bedrooms', 'bathrooms',\n",
       "       'number_of_reviews', 'review_scores_rating', 'availability_365',\n",
       "       'minimum_nights', 'host_is_superhost', 'instant_bookable', 'latitude',\n",
       "       'longitude', 'picture_url', 'amenity_kitchen', 'amenity_wifi',\n",
       "       'amenity_hair_dryer', 'amenity_smoke_alarm', 'amenity_hot_water',\n",
       "       'amenity_cooking_basics', 'amenity_refrigerator', 'amenity_iron',\n",
       "       'amenity_bed_linens', 'amenity_washer', 'amenity_dishes_and_silverware',\n",
       "       'amenity_dedicated_workspace', 'amenity_heating',\n",
       "       'amenity_hot_water_kettle', 'amenity_dishwasher', 'amenity_tv',\n",
       "       'amenity_oven'],\n",
       "      dtype='object')"
      ]
     },
     "execution_count": 19,
     "metadata": {},
     "output_type": "execute_result"
    }
   ],
   "source": [
    "base_df.columns"
   ]
  },
  {
   "cell_type": "code",
   "execution_count": 22,
   "id": "be3fb14b",
   "metadata": {
    "executionInfo": {
     "elapsed": 5,
     "status": "ok",
     "timestamp": 1752160522973,
     "user": {
      "displayName": "zunaira pervaiz",
      "userId": "04677811989927082343"
     },
     "user_tz": -120
    },
    "id": "be3fb14b"
   },
   "outputs": [],
   "source": [
    "# Convert 'instant_bookable' to binary 1 for 't' and 0 for 'f'\n",
    "base_df['instant_bookable'] = base_df['instant_bookable'].map({'t': 1, 'f': 0})\n"
   ]
  },
  {
   "cell_type": "code",
   "execution_count": 23,
   "id": "f80e0719",
   "metadata": {
    "colab": {
     "base_uri": "https://localhost:8080/",
     "height": 243
    },
    "executionInfo": {
     "elapsed": 24,
     "status": "ok",
     "timestamp": 1752160526946,
     "user": {
      "displayName": "zunaira pervaiz",
      "userId": "04677811989927082343"
     },
     "user_tz": -120
    },
    "id": "f80e0719",
    "outputId": "917ce9ff-cbac-4d37-e7ca-cf9dd509d4d5"
   },
   "outputs": [
    {
     "data": {
      "text/html": [
       "<div>\n",
       "<style scoped>\n",
       "    .dataframe tbody tr th:only-of-type {\n",
       "        vertical-align: middle;\n",
       "    }\n",
       "\n",
       "    .dataframe tbody tr th {\n",
       "        vertical-align: top;\n",
       "    }\n",
       "\n",
       "    .dataframe thead th {\n",
       "        text-align: right;\n",
       "    }\n",
       "</style>\n",
       "<table border=\"1\" class=\"dataframe\">\n",
       "  <thead>\n",
       "    <tr style=\"text-align: right;\">\n",
       "      <th></th>\n",
       "      <th>id</th>\n",
       "      <th>price</th>\n",
       "      <th>accommodates</th>\n",
       "      <th>bedrooms</th>\n",
       "      <th>bathrooms</th>\n",
       "      <th>number_of_reviews</th>\n",
       "      <th>review_scores_rating</th>\n",
       "      <th>availability_365</th>\n",
       "      <th>minimum_nights</th>\n",
       "      <th>host_is_superhost</th>\n",
       "      <th>...</th>\n",
       "      <th>amenity_iron</th>\n",
       "      <th>amenity_bed_linens</th>\n",
       "      <th>amenity_washer</th>\n",
       "      <th>amenity_dishes_and_silverware</th>\n",
       "      <th>amenity_dedicated_workspace</th>\n",
       "      <th>amenity_heating</th>\n",
       "      <th>amenity_hot_water_kettle</th>\n",
       "      <th>amenity_dishwasher</th>\n",
       "      <th>amenity_tv</th>\n",
       "      <th>amenity_oven</th>\n",
       "    </tr>\n",
       "  </thead>\n",
       "  <tbody>\n",
       "    <tr>\n",
       "      <th>0</th>\n",
       "      <td>3176</td>\n",
       "      <td>105.0</td>\n",
       "      <td>2</td>\n",
       "      <td>1.0</td>\n",
       "      <td>1.0</td>\n",
       "      <td>149</td>\n",
       "      <td>4.63</td>\n",
       "      <td>286</td>\n",
       "      <td>63</td>\n",
       "      <td>f</td>\n",
       "      <td>...</td>\n",
       "      <td>1</td>\n",
       "      <td>1</td>\n",
       "      <td>1</td>\n",
       "      <td>1</td>\n",
       "      <td>0</td>\n",
       "      <td>1</td>\n",
       "      <td>1</td>\n",
       "      <td>0</td>\n",
       "      <td>1</td>\n",
       "      <td>1</td>\n",
       "    </tr>\n",
       "    <tr>\n",
       "      <th>1</th>\n",
       "      <td>9991</td>\n",
       "      <td>135.0</td>\n",
       "      <td>7</td>\n",
       "      <td>4.0</td>\n",
       "      <td>2.5</td>\n",
       "      <td>7</td>\n",
       "      <td>5.00</td>\n",
       "      <td>109</td>\n",
       "      <td>6</td>\n",
       "      <td>f</td>\n",
       "      <td>...</td>\n",
       "      <td>1</td>\n",
       "      <td>1</td>\n",
       "      <td>1</td>\n",
       "      <td>1</td>\n",
       "      <td>0</td>\n",
       "      <td>1</td>\n",
       "      <td>0</td>\n",
       "      <td>1</td>\n",
       "      <td>0</td>\n",
       "      <td>1</td>\n",
       "    </tr>\n",
       "    <tr>\n",
       "      <th>2</th>\n",
       "      <td>14325</td>\n",
       "      <td>75.0</td>\n",
       "      <td>1</td>\n",
       "      <td>0.0</td>\n",
       "      <td>1.0</td>\n",
       "      <td>26</td>\n",
       "      <td>4.68</td>\n",
       "      <td>165</td>\n",
       "      <td>150</td>\n",
       "      <td>t</td>\n",
       "      <td>...</td>\n",
       "      <td>0</td>\n",
       "      <td>0</td>\n",
       "      <td>1</td>\n",
       "      <td>1</td>\n",
       "      <td>0</td>\n",
       "      <td>0</td>\n",
       "      <td>0</td>\n",
       "      <td>0</td>\n",
       "      <td>1</td>\n",
       "      <td>0</td>\n",
       "    </tr>\n",
       "    <tr>\n",
       "      <th>3</th>\n",
       "      <td>16644</td>\n",
       "      <td>77.0</td>\n",
       "      <td>4</td>\n",
       "      <td>1.0</td>\n",
       "      <td>1.0</td>\n",
       "      <td>48</td>\n",
       "      <td>4.72</td>\n",
       "      <td>196</td>\n",
       "      <td>93</td>\n",
       "      <td>f</td>\n",
       "      <td>...</td>\n",
       "      <td>1</td>\n",
       "      <td>0</td>\n",
       "      <td>1</td>\n",
       "      <td>0</td>\n",
       "      <td>0</td>\n",
       "      <td>0</td>\n",
       "      <td>0</td>\n",
       "      <td>0</td>\n",
       "      <td>1</td>\n",
       "      <td>0</td>\n",
       "    </tr>\n",
       "    <tr>\n",
       "      <th>4</th>\n",
       "      <td>17904</td>\n",
       "      <td>40.0</td>\n",
       "      <td>2</td>\n",
       "      <td>0.0</td>\n",
       "      <td>1.0</td>\n",
       "      <td>299</td>\n",
       "      <td>4.77</td>\n",
       "      <td>29</td>\n",
       "      <td>92</td>\n",
       "      <td>f</td>\n",
       "      <td>...</td>\n",
       "      <td>1</td>\n",
       "      <td>0</td>\n",
       "      <td>0</td>\n",
       "      <td>0</td>\n",
       "      <td>0</td>\n",
       "      <td>1</td>\n",
       "      <td>0</td>\n",
       "      <td>0</td>\n",
       "      <td>1</td>\n",
       "      <td>0</td>\n",
       "    </tr>\n",
       "  </tbody>\n",
       "</table>\n",
       "<p>5 rows × 31 columns</p>\n",
       "</div>"
      ],
      "text/plain": [
       "      id  price  accommodates  bedrooms  bathrooms  number_of_reviews  \\\n",
       "0   3176  105.0             2       1.0        1.0                149   \n",
       "1   9991  135.0             7       4.0        2.5                  7   \n",
       "2  14325   75.0             1       0.0        1.0                 26   \n",
       "3  16644   77.0             4       1.0        1.0                 48   \n",
       "4  17904   40.0             2       0.0        1.0                299   \n",
       "\n",
       "   review_scores_rating  availability_365  minimum_nights host_is_superhost  \\\n",
       "0                  4.63               286              63                 f   \n",
       "1                  5.00               109               6                 f   \n",
       "2                  4.68               165             150                 t   \n",
       "3                  4.72               196              93                 f   \n",
       "4                  4.77                29              92                 f   \n",
       "\n",
       "   ...  amenity_iron  amenity_bed_linens  amenity_washer  \\\n",
       "0  ...             1                   1               1   \n",
       "1  ...             1                   1               1   \n",
       "2  ...             0                   0               1   \n",
       "3  ...             1                   0               1   \n",
       "4  ...             1                   0               0   \n",
       "\n",
       "  amenity_dishes_and_silverware  amenity_dedicated_workspace  amenity_heating  \\\n",
       "0                             1                            0                1   \n",
       "1                             1                            0                1   \n",
       "2                             1                            0                0   \n",
       "3                             0                            0                0   \n",
       "4                             0                            0                1   \n",
       "\n",
       "   amenity_hot_water_kettle  amenity_dishwasher  amenity_tv  amenity_oven  \n",
       "0                         1                   0           1             1  \n",
       "1                         0                   1           0             1  \n",
       "2                         0                   0           1             0  \n",
       "3                         0                   0           1             0  \n",
       "4                         0                   0           1             0  \n",
       "\n",
       "[5 rows x 31 columns]"
      ]
     },
     "execution_count": 23,
     "metadata": {},
     "output_type": "execute_result"
    }
   ],
   "source": [
    "base_df.head()"
   ]
  },
  {
   "cell_type": "code",
   "execution_count": 24,
   "id": "d79e6f1d",
   "metadata": {
    "id": "d79e6f1d",
    "outputId": "179b6a98-0f39-4a04-8148-bbcf5c7f8abb"
   },
   "outputs": [
    {
     "data": {
      "text/plain": [
       "(12912, 31)"
      ]
     },
     "execution_count": 24,
     "metadata": {},
     "output_type": "execute_result"
    }
   ],
   "source": [
    "base_df.shape"
   ]
  },
  {
   "cell_type": "markdown",
   "id": "06f2c917",
   "metadata": {
    "id": "06f2c917"
   },
   "source": [
    "## Tabular Features"
   ]
  },
  {
   "cell_type": "code",
   "execution_count": 28,
   "id": "986b2f26",
   "metadata": {
    "executionInfo": {
     "elapsed": 19,
     "status": "ok",
     "timestamp": 1752160574286,
     "user": {
      "displayName": "zunaira pervaiz",
      "userId": "04677811989927082343"
     },
     "user_tz": -120
    },
    "id": "986b2f26"
   },
   "outputs": [],
   "source": [
    "# Select only tabular columns\n",
    "tabular_columns = [\n",
    "    'price', 'accommodates', 'bedrooms', 'bathrooms',\n",
    "    'number_of_reviews', 'review_scores_rating',\n",
    "    'availability_365', 'minimum_nights', 'instant_bookable',\n",
    "    \n",
    "    # Amenity binary features\n",
    "    'amenity_kitchen', 'amenity_wifi','amenity_hair_dryer', 'amenity_smoke_alarm', 'amenity_hot_water',\n",
    "    'amenity_cooking_basics', 'amenity_refrigerator', 'amenity_iron',\n",
    "    'amenity_bed_linens', 'amenity_washer', 'amenity_dishes_and_silverware',\n",
    "    'amenity_dedicated_workspace', 'amenity_heating','amenity_hot_water_kettle',\n",
    "    'amenity_dishwasher', 'amenity_tv', 'amenity_oven',\n",
    "]\n",
    "\n",
    "# Select only the tabular columns from the base DataFrame\n",
    "tabular_df = base_df[tabular_columns].copy()\n",
    "\n",
    "# Optional: Handle missing values (simple approach: fill with median)\n",
    "tabular_df.fillna(tabular_df.median(numeric_only=True), inplace=True)\n"
   ]
  },
  {
   "cell_type": "code",
   "execution_count": 29,
   "id": "e51de28c",
   "metadata": {
    "colab": {
     "base_uri": "https://localhost:8080/"
    },
    "executionInfo": {
     "elapsed": 7,
     "status": "ok",
     "timestamp": 1752160578572,
     "user": {
      "displayName": "zunaira pervaiz",
      "userId": "04677811989927082343"
     },
     "user_tz": -120
    },
    "id": "e51de28c",
    "outputId": "a23e2b14-9a2e-402e-c6a8-39c36c74cb04"
   },
   "outputs": [
    {
     "data": {
      "text/plain": [
       "(12912, 26)"
      ]
     },
     "execution_count": 29,
     "metadata": {},
     "output_type": "execute_result"
    }
   ],
   "source": [
    "tabular_df.shape"
   ]
  },
  {
   "cell_type": "markdown",
   "id": "55b7c5d5",
   "metadata": {
    "id": "55b7c5d5"
   },
   "source": [
    "## Spatial features"
   ]
  },
  {
   "cell_type": "code",
   "execution_count": 30,
   "id": "99f6f0db",
   "metadata": {
    "executionInfo": {
     "elapsed": 3002,
     "status": "ok",
     "timestamp": 1752160588284,
     "user": {
      "displayName": "zunaira pervaiz",
      "userId": "04677811989927082343"
     },
     "user_tz": -120
    },
    "id": "99f6f0db"
   },
   "outputs": [],
   "source": [
    "# City center of Berlin (Mitte)\n",
    "berlin_center = (52.5200, 13.4050)\n",
    "\n",
    "# Extract coordinates\n",
    "spatial_df = base_df[['latitude', 'longitude']].copy()\n",
    "\n",
    "# Compute distance to city center\n",
    "spatial_df['dist_to_center_km'] = spatial_df.apply(\n",
    "    lambda row: geodesic((row['latitude'], row['longitude']), berlin_center).km,\n",
    "    axis=1\n",
    ")\n"
   ]
  },
  {
   "cell_type": "code",
   "execution_count": 31,
   "id": "5185859f",
   "metadata": {
    "colab": {
     "base_uri": "https://localhost:8080/",
     "height": 206
    },
    "executionInfo": {
     "elapsed": 26,
     "status": "ok",
     "timestamp": 1752160592257,
     "user": {
      "displayName": "zunaira pervaiz",
      "userId": "04677811989927082343"
     },
     "user_tz": -120
    },
    "id": "5185859f",
    "outputId": "e39a8dcf-4f0c-46bc-c751-faeb210888d5"
   },
   "outputs": [
    {
     "data": {
      "text/html": [
       "<div>\n",
       "<style scoped>\n",
       "    .dataframe tbody tr th:only-of-type {\n",
       "        vertical-align: middle;\n",
       "    }\n",
       "\n",
       "    .dataframe tbody tr th {\n",
       "        vertical-align: top;\n",
       "    }\n",
       "\n",
       "    .dataframe thead th {\n",
       "        text-align: right;\n",
       "    }\n",
       "</style>\n",
       "<table border=\"1\" class=\"dataframe\">\n",
       "  <thead>\n",
       "    <tr style=\"text-align: right;\">\n",
       "      <th></th>\n",
       "      <th>latitude</th>\n",
       "      <th>longitude</th>\n",
       "      <th>dist_to_center_km</th>\n",
       "    </tr>\n",
       "  </thead>\n",
       "  <tbody>\n",
       "    <tr>\n",
       "      <th>0</th>\n",
       "      <td>52.53471</td>\n",
       "      <td>13.41810</td>\n",
       "      <td>1.862755</td>\n",
       "    </tr>\n",
       "    <tr>\n",
       "      <th>1</th>\n",
       "      <td>52.53269</td>\n",
       "      <td>13.41805</td>\n",
       "      <td>1.666888</td>\n",
       "    </tr>\n",
       "    <tr>\n",
       "      <th>2</th>\n",
       "      <td>52.54813</td>\n",
       "      <td>13.40366</td>\n",
       "      <td>3.131556</td>\n",
       "    </tr>\n",
       "    <tr>\n",
       "      <th>3</th>\n",
       "      <td>52.50312</td>\n",
       "      <td>13.43508</td>\n",
       "      <td>2.774675</td>\n",
       "    </tr>\n",
       "    <tr>\n",
       "      <th>4</th>\n",
       "      <td>52.49419</td>\n",
       "      <td>13.42166</td>\n",
       "      <td>3.086801</td>\n",
       "    </tr>\n",
       "  </tbody>\n",
       "</table>\n",
       "</div>"
      ],
      "text/plain": [
       "   latitude  longitude  dist_to_center_km\n",
       "0  52.53471   13.41810           1.862755\n",
       "1  52.53269   13.41805           1.666888\n",
       "2  52.54813   13.40366           3.131556\n",
       "3  52.50312   13.43508           2.774675\n",
       "4  52.49419   13.42166           3.086801"
      ]
     },
     "execution_count": 31,
     "metadata": {},
     "output_type": "execute_result"
    }
   ],
   "source": [
    "spatial_df.head()"
   ]
  }
 ],
 "metadata": {
  "colab": {
   "provenance": []
  },
  "kernelspec": {
   "display_name": "Python 3",
   "language": "python",
   "name": "python3"
  },
  "language_info": {
   "codemirror_mode": {
    "name": "ipython",
    "version": 3
   },
   "file_extension": ".py",
   "mimetype": "text/x-python",
   "name": "python",
   "nbconvert_exporter": "python",
   "pygments_lexer": "ipython3",
   "version": "3.10.11"
  }
 },
 "nbformat": 4,
 "nbformat_minor": 5
}
